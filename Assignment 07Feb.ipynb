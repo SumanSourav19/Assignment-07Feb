{
 "cells": [
  {
   "cell_type": "markdown",
   "id": "daa11001-d74b-49ca-875c-c2cbc8121e4a",
   "metadata": {},
   "source": [
    "Q1. You are writing code for a company. The requirement of the company is that you create a python\n",
    "function that will check whether the password entered by the user is correct or not. The function should\n",
    "take the password as input and return the string “Valid Password” if the entered password follows the\n",
    "below-given password guidelines else it should return “Invalid Password”.\n",
    "\n",
    "Note: \n",
    "\n",
    "1. The Password should contain at least two uppercase letters and at least two lowercase letters.\n",
    "2. The Password should contain at least a number and three special characters.\n",
    "3. The length of the password should be 10 characters long."
   ]
  },
  {
   "cell_type": "code",
   "execution_count": 2,
   "id": "83447dd7-8f4c-4fcb-94e8-e3b9d55c197d",
   "metadata": {},
   "outputs": [
    {
     "name": "stdout",
     "output_type": "stream",
     "text": [
      "ABc123./@dx$#abx%^a2  =  Valid Password\n",
      "adiu231$029AJY#-dj  =  Invalid Password\n",
      "ABcd12./#klajf23&  =  Valid Password\n"
     ]
    }
   ],
   "source": [
    "def check_password(password: str):\n",
    "    special_chars = \"[@_!#$%^&*()<>?/|}{~:]\"\n",
    "\n",
    "    cap = num = char = length = 0\n",
    "    for i in password:\n",
    "        if i.isupper() or i.islower():\n",
    "            cap += 1\n",
    "        elif i.isdigit():\n",
    "            num += 1\n",
    "        elif i in special_chars:\n",
    "            char += 1\n",
    "        else:\n",
    "            continue\n",
    "    \n",
    "    if cap >= 4 and num >= 1 and char >= 3 and len(password) >= 10:\n",
    "        return 'Valid Password'\n",
    "    else:\n",
    "        return 'Invalid Password'\n",
    "\n",
    "pass1 = 'ABc123./@dx$#abx%^a2'\n",
    "pass2 = 'adiu231$029AJY#-dj'\n",
    "pass3 = 'ABcd12./#klajf23&'\n",
    "\n",
    "print(pass1, ' = ', check_password(pass1))\n",
    "print(pass2, ' = ', check_password(pass2))\n",
    "print(pass3, ' = ', check_password(pass3))"
   ]
  },
  {
   "cell_type": "markdown",
   "id": "604f826b-5b54-4c71-82fa-b376c705d0b2",
   "metadata": {},
   "source": [
    "Q2. Solve the below-given questions using at least one of the following:\n",
    "1. Lambda function\n",
    "2. Filter function\n",
    "3. Map function\n",
    "4. List Comprehension\n",
    "\n",
    "Check if the string starts with a particular letter\n",
    "\n",
    "Check if the string is numeric\n",
    "\n",
    "Sort a list of tuples having fruit names and their quantity. [(\"mango\",99),(\"orange\",80), (\"grapes\", 1000)\n",
    "\n",
    "Find the squares of numbers from 1 to 10\n",
    "\n",
    "Find the cube root of numbers from 1 to 10\n",
    "\n",
    "Check if a given number is even\n",
    "\n",
    "Filter odd numbers from the given list.\n",
    "[1,2,3,4,5,6,7,8,9,10]\n",
    "\n",
    "Sort a list of integers into positive and negative integers lists.\n",
    "[1,2,3,4,5,6,-1,-2,-3,-4,-5,0]"
   ]
  },
  {
   "cell_type": "code",
   "execution_count": 3,
   "id": "b42641e3-932a-4f28-8ede-a5f190eb5f85",
   "metadata": {},
   "outputs": [
    {
     "name": "stdout",
     "output_type": "stream",
     "text": [
      "True\n",
      "False\n"
     ]
    }
   ],
   "source": [
    "starts_with = lambda x: True if x.startswith('P') else False\n",
    "print(starts_with('Python'))\n",
    "starts_with = lambda x: True if x.startswith('P') else False\n",
    "print(starts_with('Java'))"
   ]
  },
  {
   "cell_type": "code",
   "execution_count": 5,
   "id": "4aa9511d-bfaa-46d7-a7cd-0df2e15674be",
   "metadata": {},
   "outputs": [
    {
     "name": "stdout",
     "output_type": "stream",
     "text": [
      "True\n",
      "True\n"
     ]
    }
   ],
   "source": [
    "is_num = lambda q: q.replace('.','',1).isdigit()\n",
    "print(is_num('26587'))\n",
    "print(is_num('4.2365'))"
   ]
  },
  {
   "cell_type": "code",
   "execution_count": 8,
   "id": "75f47108-fc2f-476a-8f43-acc260f7574c",
   "metadata": {},
   "outputs": [
    {
     "name": "stdout",
     "output_type": "stream",
     "text": [
      "Original list of tuples:\n",
      "[('mango', 99), ('orange', 80), ('grapes', 1000)]\n",
      "\n",
      "Sorting the List of Tuples:\n",
      "[('orange', 80), ('mango', 99), ('grapes', 1000)]\n"
     ]
    }
   ],
   "source": [
    "fruit_name= [(\"mango\",99),(\"orange\",80), (\"grapes\", 1000)]\n",
    "print(\"Original list of tuples:\")\n",
    "print(fruit_name)\n",
    "fruit_name.sort(key = lambda x: x[1])\n",
    "print(\"\\nSorting the List of Tuples:\")\n",
    "print(fruit_name)"
   ]
  },
  {
   "cell_type": "code",
   "execution_count": 11,
   "id": "c308b474-a424-47b9-828f-7834a68b2a11",
   "metadata": {},
   "outputs": [
    {
     "name": "stdout",
     "output_type": "stream",
     "text": [
      "[1, 4, 9, 16, 25, 36, 49, 64, 81, 100]\n"
     ]
    }
   ],
   "source": [
    "nums = [1, 2, 3, 4, 5, 6, 7, 8, 9, 10]\n",
    "square_nums = list(map(lambda x: x ** 2, nums))\n",
    "print(square_nums)"
   ]
  },
  {
   "cell_type": "code",
   "execution_count": 12,
   "id": "94935fc4-bf0a-4b47-b504-094361832638",
   "metadata": {},
   "outputs": [
    {
     "name": "stdout",
     "output_type": "stream",
     "text": [
      "[1, 8, 27, 64, 125, 216, 343, 512, 729, 1000]\n"
     ]
    }
   ],
   "source": [
    "nums = [1, 2, 3, 4, 5, 6, 7, 8, 9, 10]\n",
    "cube_nums = list(map(lambda x: x ** 3, nums))\n",
    "print(cube_nums)"
   ]
  },
  {
   "cell_type": "code",
   "execution_count": 20,
   "id": "91948095-a33b-478f-a0f0-8ec1eb2eb7be",
   "metadata": {},
   "outputs": [
    {
     "name": "stdout",
     "output_type": "stream",
     "text": [
      "List of numbers:\n",
      "[15, 18, 29, 48, 74, 89, 100]\n",
      "List of even numbers:\n",
      "[18, 48, 74, 100]\n"
     ]
    }
   ],
   "source": [
    "numbers = [15,18,29,48,74,89,100]\n",
    "print(\"List of numbers:\")\n",
    "print(numbers)\n",
    "print(\"List of even numbers:\")\n",
    "evenNumbers = list(filter(lambda x: x%2 == 0, numbers))\n",
    "print(evenNumbers)"
   ]
  },
  {
   "cell_type": "code",
   "execution_count": 21,
   "id": "0d8f4c85-c3e0-4774-9c99-356ac9da9edf",
   "metadata": {},
   "outputs": [
    {
     "data": {
      "text/plain": [
       "[2, 4, 6, 8, 10]"
      ]
     },
     "execution_count": 21,
     "metadata": {},
     "output_type": "execute_result"
    }
   ],
   "source": [
    "l= [1,2,3,4,5,6,7,8,9,10]\n",
    "list(filter(lambda x: x%2==0,l))"
   ]
  },
  {
   "cell_type": "code",
   "execution_count": 33,
   "id": "8e322cc7-b0cf-40a4-9c5f-bfee8474f3ca",
   "metadata": {},
   "outputs": [
    {
     "name": "stdout",
     "output_type": "stream",
     "text": [
      "Result after performing sort operation : [1, 2, 3, 4, 5, 6, 0, -5, -4, -3, -2, -1]\n"
     ]
    }
   ],
   "source": [
    "l= [1,2,3,4,5,6,-1,-2,-3,-4,-5,0]\n",
    "\n",
    "res = sorted(l, key = lambda i: 0 if i == 0 else -1 / i)\n",
    " \n",
    "print(\"Result after performing sort operation : \" + str(res))"
   ]
  },
  {
   "cell_type": "code",
   "execution_count": null,
   "id": "69cf7951-cee4-494e-871d-b0896724eb09",
   "metadata": {},
   "outputs": [],
   "source": []
  }
 ],
 "metadata": {
  "kernelspec": {
   "display_name": "Python 3 (ipykernel)",
   "language": "python",
   "name": "python3"
  },
  "language_info": {
   "codemirror_mode": {
    "name": "ipython",
    "version": 3
   },
   "file_extension": ".py",
   "mimetype": "text/x-python",
   "name": "python",
   "nbconvert_exporter": "python",
   "pygments_lexer": "ipython3",
   "version": "3.10.8"
  }
 },
 "nbformat": 4,
 "nbformat_minor": 5
}
